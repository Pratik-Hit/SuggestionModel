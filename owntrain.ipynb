{
  "metadata": {
    "kernelspec": {
      "language": "python",
      "display_name": "Python 3",
      "name": "python3"
    },
    "language_info": {
      "name": "python",
      "version": "3.10.13",
      "mimetype": "text/x-python",
      "codemirror_mode": {
        "name": "ipython",
        "version": 3
      },
      "pygments_lexer": "ipython3",
      "nbconvert_exporter": "python",
      "file_extension": ".py"
    },
    "kaggle": {
      "accelerator": "gpu",
      "dataSources": [
        {
          "sourceId": 8637046,
          "sourceType": "datasetVersion",
          "datasetId": 5172126
        },
        {
          "sourceId": 8688482,
          "sourceType": "datasetVersion",
          "datasetId": 5209521
        },
        {
          "sourceId": 8911094,
          "sourceType": "datasetVersion",
          "datasetId": 5358110
        },
        {
          "sourceId": 8912142,
          "sourceType": "datasetVersion",
          "datasetId": 5358953
        }
      ],
      "dockerImageVersionId": 30732,
      "isInternetEnabled": true,
      "language": "python",
      "sourceType": "notebook",
      "isGpuEnabled": true
    },
    "colab": {
      "name": "owntrain",
      "provenance": []
    }
  },
  "nbformat_minor": 0,
  "nbformat": 4,
  "cells": [
    {
      "source": [
        "\n",
        "# IMPORTANT: RUN THIS CELL IN ORDER TO IMPORT YOUR KAGGLE DATA SOURCES\n",
        "# TO THE CORRECT LOCATION (/kaggle/input) IN YOUR NOTEBOOK,\n",
        "# THEN FEEL FREE TO DELETE THIS CELL.\n",
        "# NOTE: THIS NOTEBOOK ENVIRONMENT DIFFERS FROM KAGGLE'S PYTHON\n",
        "# ENVIRONMENT SO THERE MAY BE MISSING LIBRARIES USED BY YOUR\n",
        "# NOTEBOOK.\n",
        "\n",
        "import os\n",
        "import sys\n",
        "from tempfile import NamedTemporaryFile\n",
        "from urllib.request import urlopen\n",
        "from urllib.parse import unquote, urlparse\n",
        "from urllib.error import HTTPError\n",
        "from zipfile import ZipFile\n",
        "import tarfile\n",
        "import shutil\n",
        "\n",
        "CHUNK_SIZE = 40960\n",
        "DATA_SOURCE_MAPPING = 'multdata:https%3A%2F%2Fstorage.googleapis.com%2Fkaggle-data-sets%2F5172126%2F8637046%2Fbundle%2Farchive.zip%3FX-Goog-Algorithm%3DGOOG4-RSA-SHA256%26X-Goog-Credential%3Dgcp-kaggle-com%2540kaggle-161607.iam.gserviceaccount.com%252F20240730%252Fauto%252Fstorage%252Fgoog4_request%26X-Goog-Date%3D20240730T121017Z%26X-Goog-Expires%3D259200%26X-Goog-SignedHeaders%3Dhost%26X-Goog-Signature%3D7792ca2089af8e75af5a51791b223dc369f9ff3c58d738516845a671a33a6553c304614c571f40af346d37af20d8d2d86b3a1eb272aa146f0481d80e45efb21481d0ff145b0e10c3c5032133f474ab989f1e76d3aee28fda21a48513e8700060dc24b6e55d97daf837a00a5b9e99cc24c7d3a6b2402c3a8351e6025bb2b03fa0600d41183c112fc944590a9dac55651e2f351571f03eca3b5ed93d121b1407c329ef93bacb3101aa0bcd6cc60f58cc75ff80610a02bc6f9b4a8cb4f031a5bff5baaeaeff4a627a0ec6d0686b3321b0364d48d88407d19a75a43691bdaab0e883353a74bc9f64e9979a03fe461ae6ef588604df7cd17458787a7a0ae0af2b5c0d,500-mult:https%3A%2F%2Fstorage.googleapis.com%2Fkaggle-data-sets%2F5209521%2F8688482%2Fbundle%2Farchive.zip%3FX-Goog-Algorithm%3DGOOG4-RSA-SHA256%26X-Goog-Credential%3Dgcp-kaggle-com%2540kaggle-161607.iam.gserviceaccount.com%252F20240730%252Fauto%252Fstorage%252Fgoog4_request%26X-Goog-Date%3D20240730T121017Z%26X-Goog-Expires%3D259200%26X-Goog-SignedHeaders%3Dhost%26X-Goog-Signature%3D79ac9bcf8f90117d89392be14ee978e3cb8d41b09c9e452e0bc73cf5ea9d61f7c5f502e6c38dcd0186f954f0468fca2c54dfdc5bd6b000d8cb7553d75e07551f8636879e5d63ffcff5ae47188ea484464bb5b2acc773b87d392ad4c68398b5e6ec87066d175c091c0575741f9772dcfa914238cb32fae77a7b601d8ec1bc76e14a656851aac3e36ddc0b0b52848c8d3d58410b1e7f03db7b95e648bf0f5adfbe711e3ba0abcae2d9d05f735b89760ba230a45ad69e92477683c6e0868901b1810b86f131765cd3de1a8fbc60ab4dad613f6b38fe2297f5814072e360587fa3ff6a8b8c553f154ef8c4656f386bfccebed73aee85ee4623e10d966f243c1697eb,topics22k:https%3A%2F%2Fstorage.googleapis.com%2Fkaggle-data-sets%2F5358110%2F8911094%2Fbundle%2Farchive.zip%3FX-Goog-Algorithm%3DGOOG4-RSA-SHA256%26X-Goog-Credential%3Dgcp-kaggle-com%2540kaggle-161607.iam.gserviceaccount.com%252F20240730%252Fauto%252Fstorage%252Fgoog4_request%26X-Goog-Date%3D20240730T121017Z%26X-Goog-Expires%3D259200%26X-Goog-SignedHeaders%3Dhost%26X-Goog-Signature%3D17be7d1225cd2b19cf54eb2bec52f4b7bbfd745bff96b4f0a2f86a56b2dca11c456427868299dee491b256bec7e8e756844d0d837286cd60bb95fafa3baeb8aec61f9854dc1c3edf618732374790ef37d0b9dabbf0647b746c3fa0c81dfa3d3359750c968d8f30ddc8a745527fb2204e6f55543f2e2598dd796ec7619aacd3267aa65fdd2bf29a8fe196244278a481af305b55f7c9a0e0f2900bcd36191fe765a7bcedb9bed642b9dcf935ff82a023d6f9c44bf0b1ef8e12f28f976c8bb8a6b7c0d236a89648988a19d4a439c7b6a0a58a6a1cbf23ee55c990c832b40f92f21e82a706d7764723b5c84354045406434d0683e0331a286c73100986f65db89905,new-topics:https%3A%2F%2Fstorage.googleapis.com%2Fkaggle-data-sets%2F5358953%2F8912142%2Fbundle%2Farchive.zip%3FX-Goog-Algorithm%3DGOOG4-RSA-SHA256%26X-Goog-Credential%3Dgcp-kaggle-com%2540kaggle-161607.iam.gserviceaccount.com%252F20240730%252Fauto%252Fstorage%252Fgoog4_request%26X-Goog-Date%3D20240730T121017Z%26X-Goog-Expires%3D259200%26X-Goog-SignedHeaders%3Dhost%26X-Goog-Signature%3D6952d6b64b7fa05cdf93d7e362cc9b61acfdf9d9843f8413be5ad37dd3bcf1a0843a291e9293bf0f372af7be9ced969c848b3272f5da0fcbb208afadd3d9068f2d0bf347500576d52c62a2d6c810684917761e703bd8664c50a5fee10bb11fb92a289571f4dfe44d4aa4115cd58bf40cc6db7f8470cbcd49de0ca2ad01468e5204430cd5e654444786116f07c175b53a4911f4f87c81b54ffc2ea627994b711879b600f174097341a8b8ed604e2f8cd8758a407cd73b4d383e6698ab5378a98298e1e06fb7bd6eb7873f148d524cabdeda28965d3617f314c657fa81ba9995db0f844b22cd51313a3d1d6cd36c0b0da21b37f420c2b90fdff86a90fdcd93e67b'\n",
        "\n",
        "KAGGLE_INPUT_PATH='/kaggle/input'\n",
        "KAGGLE_WORKING_PATH='/kaggle/working'\n",
        "KAGGLE_SYMLINK='kaggle'\n",
        "\n",
        "!umount /kaggle/input/ 2> /dev/null\n",
        "shutil.rmtree('/kaggle/input', ignore_errors=True)\n",
        "os.makedirs(KAGGLE_INPUT_PATH, 0o777, exist_ok=True)\n",
        "os.makedirs(KAGGLE_WORKING_PATH, 0o777, exist_ok=True)\n",
        "\n",
        "try:\n",
        "  os.symlink(KAGGLE_INPUT_PATH, os.path.join(\"..\", 'input'), target_is_directory=True)\n",
        "except FileExistsError:\n",
        "  pass\n",
        "try:\n",
        "  os.symlink(KAGGLE_WORKING_PATH, os.path.join(\"..\", 'working'), target_is_directory=True)\n",
        "except FileExistsError:\n",
        "  pass\n",
        "\n",
        "for data_source_mapping in DATA_SOURCE_MAPPING.split(','):\n",
        "    directory, download_url_encoded = data_source_mapping.split(':')\n",
        "    download_url = unquote(download_url_encoded)\n",
        "    filename = urlparse(download_url).path\n",
        "    destination_path = os.path.join(KAGGLE_INPUT_PATH, directory)\n",
        "    try:\n",
        "        with urlopen(download_url) as fileres, NamedTemporaryFile() as tfile:\n",
        "            total_length = fileres.headers['content-length']\n",
        "            print(f'Downloading {directory}, {total_length} bytes compressed')\n",
        "            dl = 0\n",
        "            data = fileres.read(CHUNK_SIZE)\n",
        "            while len(data) > 0:\n",
        "                dl += len(data)\n",
        "                tfile.write(data)\n",
        "                done = int(50 * dl / int(total_length))\n",
        "                sys.stdout.write(f\"\\r[{'=' * done}{' ' * (50-done)}] {dl} bytes downloaded\")\n",
        "                sys.stdout.flush()\n",
        "                data = fileres.read(CHUNK_SIZE)\n",
        "            if filename.endswith('.zip'):\n",
        "              with ZipFile(tfile) as zfile:\n",
        "                zfile.extractall(destination_path)\n",
        "            else:\n",
        "              with tarfile.open(tfile.name) as tarfile:\n",
        "                tarfile.extractall(destination_path)\n",
        "            print(f'\\nDownloaded and uncompressed: {directory}')\n",
        "    except HTTPError as e:\n",
        "        print(f'Failed to load (likely expired) {download_url} to path {destination_path}')\n",
        "        continue\n",
        "    except OSError as e:\n",
        "        print(f'Failed to load {download_url} to path {destination_path}')\n",
        "        continue\n",
        "\n",
        "print('Data source import complete.')\n"
      ],
      "metadata": {
        "id": "tCxgy2qFjHMc"
      },
      "cell_type": "code",
      "outputs": [],
      "execution_count": null
    },
    {
      "cell_type": "code",
      "source": [
        "# This Python 3 environment comes with many helpful analytics libraries installed\n",
        "# It is defined by the kaggle/python Docker image: https://github.com/kaggle/docker-python\n",
        "# For example, here's several helpful packages to load\n",
        "\n",
        "import numpy as np # linear algebra\n",
        "import pandas as pd # data processing, CSV file I/O (e.g. pd.read_csv)\n",
        "\n",
        "# Input data files are available in the read-only \"../input/\" directory\n",
        "# For example, running this (by clicking run or pressing Shift+Enter) will list all files under the input directory\n",
        "\n",
        "import os\n",
        "for dirname, _, filenames in os.walk('/kaggle/input'):\n",
        "    for filename in filenames:\n",
        "        print(os.path.join(dirname, filename))\n",
        "\n",
        "# You can write up to 20GB to the current directory (/kaggle/working/) that gets preserved as output when you create a version using \"Save & Run All\"\n",
        "# You can also write temporary files to /kaggle/temp/, but they won't be saved outside of the current session"
      ],
      "metadata": {
        "_uuid": "8f2839f25d086af736a60e9eeb907d3b93b6e0e5",
        "_cell_guid": "b1076dfc-b9ad-4769-8c92-a6c4dae69d19",
        "execution": {
          "iopub.status.busy": "2024-07-30T09:28:13.549574Z",
          "iopub.execute_input": "2024-07-30T09:28:13.550387Z",
          "iopub.status.idle": "2024-07-30T09:28:13.927747Z",
          "shell.execute_reply.started": "2024-07-30T09:28:13.550354Z",
          "shell.execute_reply": "2024-07-30T09:28:13.926874Z"
        },
        "trusted": true,
        "id": "lejEhbaojHMe",
        "outputId": "88341b24-cf1c-4233-84f4-dc541b470921"
      },
      "execution_count": null,
      "outputs": [
        {
          "name": "stdout",
          "text": "/kaggle/input/500-mult/500.txt\n/kaggle/input/multdata/_mult.txt\n/kaggle/input/new-topics/_new_topics.txt\n/kaggle/input/topics22k/_topics.txt\n",
          "output_type": "stream"
        }
      ]
    },
    {
      "cell_type": "code",
      "source": [
        "!pip install langdetect\n",
        "!pip install tiktoken\n",
        "import tiktoken"
      ],
      "metadata": {
        "execution": {
          "iopub.status.busy": "2024-07-30T09:28:13.929571Z",
          "iopub.execute_input": "2024-07-30T09:28:13.929923Z",
          "iopub.status.idle": "2024-07-30T09:28:42.737149Z",
          "shell.execute_reply.started": "2024-07-30T09:28:13.929899Z",
          "shell.execute_reply": "2024-07-30T09:28:42.736238Z"
        },
        "trusted": true,
        "id": "1Bplfo_njHMf",
        "outputId": "4c0e6d2a-8a68-4919-8b81-c7b47c0dc50a"
      },
      "execution_count": null,
      "outputs": [
        {
          "name": "stdout",
          "text": "Collecting langdetect\n  Downloading langdetect-1.0.9.tar.gz (981 kB)\n\u001b[2K     \u001b[90m━━━━━━━━━━━━━━━━━━━━━━━━━━━━━━━━━━━━━━\u001b[0m \u001b[32m981.5/981.5 kB\u001b[0m \u001b[31m17.5 MB/s\u001b[0m eta \u001b[36m0:00:00\u001b[0ma \u001b[36m0:00:01\u001b[0m\n\u001b[?25h  Preparing metadata (setup.py) ... \u001b[?25ldone\n\u001b[?25hRequirement already satisfied: six in /opt/conda/lib/python3.10/site-packages (from langdetect) (1.16.0)\nBuilding wheels for collected packages: langdetect\n  Building wheel for langdetect (setup.py) ... \u001b[?25ldone\n\u001b[?25h  Created wheel for langdetect: filename=langdetect-1.0.9-py3-none-any.whl size=993225 sha256=4e0e0fe79c01a7fd782003065ce039a446ec4a4467a5910031449f7885b99065\n  Stored in directory: /root/.cache/pip/wheels/95/03/7d/59ea870c70ce4e5a370638b5462a7711ab78fba2f655d05106\nSuccessfully built langdetect\nInstalling collected packages: langdetect\nSuccessfully installed langdetect-1.0.9\nCollecting tiktoken\n  Downloading tiktoken-0.7.0-cp310-cp310-manylinux_2_17_x86_64.manylinux2014_x86_64.whl.metadata (6.6 kB)\nRequirement already satisfied: regex>=2022.1.18 in /opt/conda/lib/python3.10/site-packages (from tiktoken) (2023.12.25)\nRequirement already satisfied: requests>=2.26.0 in /opt/conda/lib/python3.10/site-packages (from tiktoken) (2.32.3)\nRequirement already satisfied: charset-normalizer<4,>=2 in /opt/conda/lib/python3.10/site-packages (from requests>=2.26.0->tiktoken) (3.3.2)\nRequirement already satisfied: idna<4,>=2.5 in /opt/conda/lib/python3.10/site-packages (from requests>=2.26.0->tiktoken) (3.6)\nRequirement already satisfied: urllib3<3,>=1.21.1 in /opt/conda/lib/python3.10/site-packages (from requests>=2.26.0->tiktoken) (1.26.18)\nRequirement already satisfied: certifi>=2017.4.17 in /opt/conda/lib/python3.10/site-packages (from requests>=2.26.0->tiktoken) (2024.2.2)\nDownloading tiktoken-0.7.0-cp310-cp310-manylinux_2_17_x86_64.manylinux2014_x86_64.whl (1.1 MB)\n\u001b[2K   \u001b[90m━━━━━━━━━━━━━━━━━━━━━━━━━━━━━━━━━━━━━━━━\u001b[0m \u001b[32m1.1/1.1 MB\u001b[0m \u001b[31m20.2 MB/s\u001b[0m eta \u001b[36m0:00:00\u001b[0ma \u001b[36m0:00:01\u001b[0m\n\u001b[?25hInstalling collected packages: tiktoken\nSuccessfully installed tiktoken-0.7.0\n",
          "output_type": "stream"
        }
      ]
    },
    {
      "cell_type": "code",
      "source": [
        "import torch\n",
        "from torch.utils.data import Dataset\n",
        "from transformers import GPT2Config, GPT2LMHeadModel, Trainer, TrainingArguments\n",
        "from datasets import load_dataset\n",
        "\n",
        "# Initialize the tokenizer\n",
        "tokenizer = tiktoken.encoding_for_model('gpt-4o')\n",
        "\n",
        "# Load dataset\n",
        "file_path = \"/kaggle/input/multdata/_mult.txt\"\n",
        "# file_path = \"/kaggle/input/new-topics/_new_topics.txt\"\n",
        "dataset = load_dataset('text', data_files=file_path)\n",
        "train_dataset, val_dataset = dataset['train'].train_test_split(test_size=0.1)['train'], dataset['train'].train_test_split(test_size=0.1)['test']\n",
        "\n",
        "# Function to tokenize examples and pad sequences manually\n",
        "def tokenize_and_pad(examples, max_length):\n",
        "    tokenized_examples = []\n",
        "    for example in examples:\n",
        "        tokens = tokenizer.encode(example)\n",
        "        attention_mask = [1] * len(tokens)\n",
        "        padded_tokens = tokens + [0] * (max_length - len(tokens))  # Pad with zeros\n",
        "        padded_attention_mask = attention_mask + [0] * (max_length - len(attention_mask))\n",
        "        tokenized_examples.append({\n",
        "            \"input_ids\": padded_tokens,\n",
        "            \"attention_mask\": padded_attention_mask,\n",
        "            \"labels\": padded_tokens.copy()  # Use input_ids as labels for language modeling\n",
        "        })\n",
        "\n",
        "    return tokenized_examples\n",
        "\n",
        "# Determine maximum sequence length\n",
        "train_max_length = max(len(tokenizer.encode(example)) for example in train_dataset['text'])\n",
        "val_max_length = max(len(tokenizer.encode(example)) for example in val_dataset['text'])\n",
        "max_length = max(train_max_length, val_max_length)\n",
        "\n",
        "print(\"Max length:\", max_length)\n",
        "\n",
        "# Tokenize and pad train and validation datasets manually\n",
        "tokenized_train_examples = tokenize_and_pad(train_dataset['text'], max_length)\n",
        "tokenized_val_examples = tokenize_and_pad(val_dataset['text'], max_length)\n",
        "\n",
        "\n",
        "# Create a custom dataset class\n",
        "class CustomDataset(Dataset):\n",
        "    def __init__(self, tokenized_examples):\n",
        "        self.examples = tokenized_examples\n",
        "\n",
        "    def __len__(self):\n",
        "        return len(self.examples)\n",
        "\n",
        "    def __getitem__(self, idx):\n",
        "        item = {key: torch.tensor(val) for key, val in self.examples[idx].items()}\n",
        "        return item\n",
        "\n",
        "train_dataset = CustomDataset(tokenized_train_examples)\n",
        "val_dataset = CustomDataset(tokenized_val_examples)\n",
        "\n",
        "# Create the model configuration\n",
        "config = GPT2Config(\n",
        "    vocab_size=tokenizer.n_vocab,\n",
        "    n_ctx=max_length,\n",
        "    n_embd=768,\n",
        "    n_layer=12,\n",
        "    n_head=12,\n",
        ")\n",
        "\n",
        "# Initialize GPT-2 model\n",
        "model = GPT2LMHeadModel(config)\n",
        "\n",
        "# Define training arguments\n",
        "training_args = TrainingArguments(\n",
        "    output_dir=\"./results\",\n",
        "    overwrite_output_dir=True,\n",
        "    num_train_epochs=50,\n",
        "    per_device_train_batch_size=8,\n",
        "    per_device_eval_batch_size=6,\n",
        "    save_steps=10_000,\n",
        "    save_total_limit=2,\n",
        "    evaluation_strategy=\"epoch\",\n",
        ")\n",
        "\n",
        "# Trainer instance\n",
        "trainer = Trainer(\n",
        "    model=model,\n",
        "    args=training_args,\n",
        "    train_dataset=train_dataset,\n",
        "    eval_dataset=val_dataset,\n",
        ")\n",
        "\n",
        "# Train the model\n",
        "trainer.train()\n",
        "\n",
        "model.save_pretrained(\"pModel\")\n"
      ],
      "metadata": {
        "execution": {
          "iopub.status.busy": "2024-07-30T09:28:42.738595Z",
          "iopub.execute_input": "2024-07-30T09:28:42.738911Z",
          "iopub.status.idle": "2024-07-30T09:30:39.593134Z",
          "shell.execute_reply.started": "2024-07-30T09:28:42.738874Z",
          "shell.execute_reply": "2024-07-30T09:30:39.592034Z"
        },
        "trusted": true,
        "id": "pbU93heojHMf",
        "outputId": "c3d808eb-16ce-4b3e-c8a2-9fe78259a9be",
        "colab": {
          "referenced_widgets": [
            "1c8209addc6b487484300f5f586d56bc"
          ]
        }
      },
      "execution_count": null,
      "outputs": [
        {
          "name": "stderr",
          "text": "2024-07-30 09:28:50.636652: E external/local_xla/xla/stream_executor/cuda/cuda_dnn.cc:9261] Unable to register cuDNN factory: Attempting to register factory for plugin cuDNN when one has already been registered\n2024-07-30 09:28:50.636795: E external/local_xla/xla/stream_executor/cuda/cuda_fft.cc:607] Unable to register cuFFT factory: Attempting to register factory for plugin cuFFT when one has already been registered\n2024-07-30 09:28:50.776378: E external/local_xla/xla/stream_executor/cuda/cuda_blas.cc:1515] Unable to register cuBLAS factory: Attempting to register factory for plugin cuBLAS when one has already been registered\n",
          "output_type": "stream"
        },
        {
          "output_type": "display_data",
          "data": {
            "text/plain": "Generating train split: 0 examples [00:00, ? examples/s]",
            "application/vnd.jupyter.widget-view+json": {
              "version_major": 2,
              "version_minor": 0,
              "model_id": "1c8209addc6b487484300f5f586d56bc"
            }
          },
          "metadata": {}
        },
        {
          "name": "stdout",
          "text": "Max length: 39\n",
          "output_type": "stream"
        },
        {
          "name": "stderr",
          "text": "/opt/conda/lib/python3.10/site-packages/transformers/training_args.py:1474: FutureWarning: `evaluation_strategy` is deprecated and will be removed in version 4.46 of 🤗 Transformers. Use `eval_strategy` instead\n  warnings.warn(\n\u001b[34m\u001b[1mwandb\u001b[0m: \u001b[33mWARNING\u001b[0m The `run_name` is currently set to the same value as `TrainingArguments.output_dir`. If this was not intended, please specify a different run name by setting the `TrainingArguments.run_name` parameter.\n\u001b[34m\u001b[1mwandb\u001b[0m: Logging into wandb.ai. (Learn how to deploy a W&B server locally: https://wandb.me/wandb-server)\n\u001b[34m\u001b[1mwandb\u001b[0m: You can find your API key in your browser here: https://wandb.ai/authorize\n\u001b[34m\u001b[1mwandb\u001b[0m: Paste an API key from your profile and hit enter, or press ctrl+c to quit:",
          "output_type": "stream"
        },
        {
          "output_type": "stream",
          "name": "stdin",
          "text": "  ········································\n"
        },
        {
          "name": "stderr",
          "text": "\u001b[34m\u001b[1mwandb\u001b[0m: Appending key for api.wandb.ai to your netrc file: /root/.netrc\n",
          "output_type": "stream"
        },
        {
          "output_type": "display_data",
          "data": {
            "text/plain": "<IPython.core.display.HTML object>",
            "text/html": "wandb version 0.17.5 is available!  To upgrade, please run:\n $ pip install wandb --upgrade"
          },
          "metadata": {}
        },
        {
          "output_type": "display_data",
          "data": {
            "text/plain": "<IPython.core.display.HTML object>",
            "text/html": "Tracking run with wandb version 0.17.0"
          },
          "metadata": {}
        },
        {
          "output_type": "display_data",
          "data": {
            "text/plain": "<IPython.core.display.HTML object>",
            "text/html": "Run data is saved locally in <code>/kaggle/working/wandb/run-20240730_092954-mkoduf8b</code>"
          },
          "metadata": {}
        },
        {
          "output_type": "display_data",
          "data": {
            "text/plain": "<IPython.core.display.HTML object>",
            "text/html": "Syncing run <strong><a href='https://wandb.ai/hands_in_technology/huggingface/runs/mkoduf8b' target=\"_blank\">./results</a></strong> to <a href='https://wandb.ai/hands_in_technology/huggingface' target=\"_blank\">Weights & Biases</a> (<a href='https://wandb.me/run' target=\"_blank\">docs</a>)<br/>"
          },
          "metadata": {}
        },
        {
          "output_type": "display_data",
          "data": {
            "text/plain": "<IPython.core.display.HTML object>",
            "text/html": " View project at <a href='https://wandb.ai/hands_in_technology/huggingface' target=\"_blank\">https://wandb.ai/hands_in_technology/huggingface</a>"
          },
          "metadata": {}
        },
        {
          "output_type": "display_data",
          "data": {
            "text/plain": "<IPython.core.display.HTML object>",
            "text/html": " View run at <a href='https://wandb.ai/hands_in_technology/huggingface/runs/mkoduf8b' target=\"_blank\">https://wandb.ai/hands_in_technology/huggingface/runs/mkoduf8b</a>"
          },
          "metadata": {}
        },
        {
          "output_type": "display_data",
          "data": {
            "text/plain": "<IPython.core.display.HTML object>",
            "text/html": "\n    <div>\n      \n      <progress value='150' max='150' style='width:300px; height:20px; vertical-align: middle;'></progress>\n      [150/150 00:24, Epoch 50/50]\n    </div>\n    <table border=\"1\" class=\"dataframe\">\n  <thead>\n <tr style=\"text-align: left;\">\n      <th>Epoch</th>\n      <th>Training Loss</th>\n      <th>Validation Loss</th>\n    </tr>\n  </thead>\n  <tbody>\n    <tr>\n      <td>1</td>\n      <td>No log</td>\n      <td>7.470938</td>\n    </tr>\n    <tr>\n      <td>2</td>\n      <td>No log</td>\n      <td>6.857224</td>\n    </tr>\n    <tr>\n      <td>3</td>\n      <td>No log</td>\n      <td>6.376606</td>\n    </tr>\n    <tr>\n      <td>4</td>\n      <td>No log</td>\n      <td>5.931629</td>\n    </tr>\n    <tr>\n      <td>5</td>\n      <td>No log</td>\n      <td>5.476972</td>\n    </tr>\n    <tr>\n      <td>6</td>\n      <td>No log</td>\n      <td>4.797491</td>\n    </tr>\n    <tr>\n      <td>7</td>\n      <td>No log</td>\n      <td>4.596950</td>\n    </tr>\n    <tr>\n      <td>8</td>\n      <td>No log</td>\n      <td>3.995979</td>\n    </tr>\n    <tr>\n      <td>9</td>\n      <td>No log</td>\n      <td>3.562976</td>\n    </tr>\n    <tr>\n      <td>10</td>\n      <td>No log</td>\n      <td>3.143193</td>\n    </tr>\n    <tr>\n      <td>11</td>\n      <td>No log</td>\n      <td>2.800542</td>\n    </tr>\n    <tr>\n      <td>12</td>\n      <td>No log</td>\n      <td>2.471825</td>\n    </tr>\n    <tr>\n      <td>13</td>\n      <td>No log</td>\n      <td>2.187568</td>\n    </tr>\n    <tr>\n      <td>14</td>\n      <td>No log</td>\n      <td>1.913921</td>\n    </tr>\n    <tr>\n      <td>15</td>\n      <td>No log</td>\n      <td>1.639394</td>\n    </tr>\n    <tr>\n      <td>16</td>\n      <td>No log</td>\n      <td>1.453218</td>\n    </tr>\n    <tr>\n      <td>17</td>\n      <td>No log</td>\n      <td>1.308265</td>\n    </tr>\n    <tr>\n      <td>18</td>\n      <td>No log</td>\n      <td>1.092364</td>\n    </tr>\n    <tr>\n      <td>19</td>\n      <td>No log</td>\n      <td>0.993862</td>\n    </tr>\n    <tr>\n      <td>20</td>\n      <td>No log</td>\n      <td>0.871424</td>\n    </tr>\n    <tr>\n      <td>21</td>\n      <td>No log</td>\n      <td>0.783123</td>\n    </tr>\n    <tr>\n      <td>22</td>\n      <td>No log</td>\n      <td>0.701434</td>\n    </tr>\n    <tr>\n      <td>23</td>\n      <td>No log</td>\n      <td>0.617723</td>\n    </tr>\n    <tr>\n      <td>24</td>\n      <td>No log</td>\n      <td>0.532501</td>\n    </tr>\n    <tr>\n      <td>25</td>\n      <td>No log</td>\n      <td>0.470016</td>\n    </tr>\n    <tr>\n      <td>26</td>\n      <td>No log</td>\n      <td>0.419664</td>\n    </tr>\n    <tr>\n      <td>27</td>\n      <td>No log</td>\n      <td>0.381985</td>\n    </tr>\n    <tr>\n      <td>28</td>\n      <td>No log</td>\n      <td>0.341298</td>\n    </tr>\n    <tr>\n      <td>29</td>\n      <td>No log</td>\n      <td>0.296120</td>\n    </tr>\n    <tr>\n      <td>30</td>\n      <td>No log</td>\n      <td>0.275748</td>\n    </tr>\n    <tr>\n      <td>31</td>\n      <td>No log</td>\n      <td>0.250855</td>\n    </tr>\n    <tr>\n      <td>32</td>\n      <td>No log</td>\n      <td>0.224244</td>\n    </tr>\n    <tr>\n      <td>33</td>\n      <td>No log</td>\n      <td>0.207188</td>\n    </tr>\n    <tr>\n      <td>34</td>\n      <td>No log</td>\n      <td>0.188361</td>\n    </tr>\n    <tr>\n      <td>35</td>\n      <td>No log</td>\n      <td>0.175556</td>\n    </tr>\n    <tr>\n      <td>36</td>\n      <td>No log</td>\n      <td>0.162471</td>\n    </tr>\n    <tr>\n      <td>37</td>\n      <td>No log</td>\n      <td>0.150476</td>\n    </tr>\n    <tr>\n      <td>38</td>\n      <td>No log</td>\n      <td>0.141634</td>\n    </tr>\n    <tr>\n      <td>39</td>\n      <td>No log</td>\n      <td>0.134296</td>\n    </tr>\n    <tr>\n      <td>40</td>\n      <td>No log</td>\n      <td>0.126248</td>\n    </tr>\n    <tr>\n      <td>41</td>\n      <td>No log</td>\n      <td>0.114847</td>\n    </tr>\n    <tr>\n      <td>42</td>\n      <td>No log</td>\n      <td>0.109525</td>\n    </tr>\n    <tr>\n      <td>43</td>\n      <td>No log</td>\n      <td>0.105598</td>\n    </tr>\n    <tr>\n      <td>44</td>\n      <td>No log</td>\n      <td>0.100107</td>\n    </tr>\n    <tr>\n      <td>45</td>\n      <td>No log</td>\n      <td>0.096957</td>\n    </tr>\n    <tr>\n      <td>46</td>\n      <td>No log</td>\n      <td>0.092969</td>\n    </tr>\n    <tr>\n      <td>47</td>\n      <td>No log</td>\n      <td>0.089734</td>\n    </tr>\n    <tr>\n      <td>48</td>\n      <td>No log</td>\n      <td>0.087599</td>\n    </tr>\n    <tr>\n      <td>49</td>\n      <td>No log</td>\n      <td>0.086411</td>\n    </tr>\n    <tr>\n      <td>50</td>\n      <td>No log</td>\n      <td>0.085879</td>\n    </tr>\n  </tbody>\n</table><p>"
          },
          "metadata": {}
        }
      ]
    },
    {
      "cell_type": "markdown",
      "source": [
        "### Load Model"
      ],
      "metadata": {
        "id": "17j3HjEijHMg"
      }
    },
    {
      "cell_type": "code",
      "source": [
        "from transformers import GPT2LMHeadModel\n",
        "\n",
        "# Load the model\n",
        "model = GPT2LMHeadModel.from_pretrained(\"pModel\")"
      ],
      "metadata": {
        "execution": {
          "iopub.status.busy": "2024-07-30T09:30:39.59463Z",
          "iopub.execute_input": "2024-07-30T09:30:39.594989Z",
          "iopub.status.idle": "2024-07-30T09:30:40.058342Z",
          "shell.execute_reply.started": "2024-07-30T09:30:39.594956Z",
          "shell.execute_reply": "2024-07-30T09:30:40.057357Z"
        },
        "trusted": true,
        "id": "ybUcGlp1jHMh"
      },
      "execution_count": null,
      "outputs": []
    },
    {
      "cell_type": "markdown",
      "source": [
        "### Load Tokenizer"
      ],
      "metadata": {
        "id": "_OIkZzhWjHMh"
      }
    },
    {
      "cell_type": "code",
      "source": [
        "# import torch\n",
        "# from torch.utils.data import Dataset, DataLoader\n",
        "# from transformers import GPT2Config, GPT2LMHeadModel, Trainer, TrainingArguments\n",
        "# from datasets import load_dataset\n",
        "# from sklearn.model_selection import train_test_split\n",
        "\n",
        "# # Initialize the tokenizer\n",
        "# tokenizer = tiktoken.encoding_for_model('gpt-4o')\n",
        "\n",
        "# # Load dataset\n",
        "# # file_path = \"/kaggle/input/topics22k/_topics.txt\"\n",
        "# file_path = \"/kaggle/input/500-mult/500.txt\"\n",
        "\n",
        "# dataset = load_dataset('text', data_files=file_path)\n",
        "# texts = dataset['train']['text']\n",
        "\n",
        "# # Split the dataset\n",
        "# train_texts, val_texts = train_test_split(texts, test_size=0.1, random_state=42)\n",
        "\n",
        "# # Function to tokenize examples and pad sequences manually\n",
        "# def tokenize_and_pad(examples, max_length):\n",
        "#     tokenized_examples = []\n",
        "#     for example in examples:\n",
        "#         tokens = tokenizer.encode(example)\n",
        "#         attention_mask = [1] * len(tokens)\n",
        "#         padded_tokens = tokens + [0] * (max_length - len(tokens))  # Pad with zeros\n",
        "#         padded_attention_mask = attention_mask + [0] * (max_length - len(attention_mask))\n",
        "#         tokenized_examples.append({\n",
        "#             \"input_ids\": padded_tokens,\n",
        "#             \"attention_mask\": padded_attention_mask,\n",
        "#             \"labels\": padded_tokens.copy()  # Use input_ids as labels for language modeling\n",
        "#         })\n",
        "\n",
        "#     return tokenized_examples\n",
        "\n",
        "# # Determine maximum sequence length\n",
        "# max_length = max(len(tokenizer.encode(example)) for example in texts)\n",
        "# print(\"Max length:\", max_length)\n",
        "\n",
        "# # Tokenize and pad train and validation datasets manually\n",
        "# tokenized_train_examples = tokenize_and_pad(train_texts, max_length)\n",
        "# tokenized_val_examples = tokenize_and_pad(val_texts, max_length)\n",
        "\n",
        "# # Create a custom dataset class\n",
        "# class CustomDataset(Dataset):\n",
        "#     def __init__(self, tokenized_examples):\n",
        "#         self.examples = tokenized_examples\n",
        "\n",
        "#     def __len__(self):\n",
        "#         return len(self.examples)\n",
        "\n",
        "#     def __getitem__(self, idx):\n",
        "#         item = {key: torch.tensor(val) for key, val in self.examples[idx].items()}\n",
        "#         return item\n",
        "\n",
        "# train_dataset = CustomDataset(tokenized_train_examples)\n",
        "# val_dataset = CustomDataset(tokenized_val_examples)\n",
        "\n",
        "# # Create the model configuration\n",
        "# config = GPT2Config(\n",
        "#     vocab_size=tokenizer.n_vocab,\n",
        "#     n_ctx=max_length,\n",
        "#     n_embd=768,\n",
        "#     n_layer=12,\n",
        "#     n_head=12,\n",
        "# )\n",
        "\n",
        "# # Initialize GPT-2 model\n",
        "# model = GPT2LMHeadModel(config)\n",
        "\n",
        "# # Define training arguments\n",
        "# training_args = TrainingArguments(\n",
        "#     output_dir=\"./results\",\n",
        "#     overwrite_output_dir=True,\n",
        "#     num_train_epochs=10,\n",
        "#     per_device_train_batch_size=8,\n",
        "#     per_device_eval_batch_size=6,\n",
        "#     save_steps=10_000,\n",
        "#     save_total_limit=2,\n",
        "#     evaluation_strategy=\"epoch\",\n",
        "# )\n",
        "\n",
        "# # Trainer instance\n",
        "# trainer = Trainer(\n",
        "#     model=model,\n",
        "#     args=training_args,\n",
        "#     train_dataset=train_dataset,\n",
        "#     eval_dataset=val_dataset,\n",
        "# )\n",
        "\n",
        "# # Train the model\n",
        "# trainer.train()\n",
        "\n",
        "# model.save_pretrained(\"pModel2\")"
      ],
      "metadata": {
        "execution": {
          "iopub.status.busy": "2024-07-30T09:36:24.265614Z",
          "iopub.execute_input": "2024-07-30T09:36:24.266432Z",
          "iopub.status.idle": "2024-07-30T09:49:16.587562Z",
          "shell.execute_reply.started": "2024-07-30T09:36:24.266402Z",
          "shell.execute_reply": "2024-07-30T09:49:16.586416Z"
        },
        "trusted": true,
        "id": "dSqeSYMujHMh",
        "outputId": "68ce9903-2e21-40ea-f1fe-69092957022a",
        "colab": {
          "referenced_widgets": [
            "51daa10b42a545e7a5c2ea82341f81ee"
          ]
        }
      },
      "execution_count": null,
      "outputs": [
        {
          "output_type": "display_data",
          "data": {
            "text/plain": "Generating train split: 0 examples [00:00, ? examples/s]",
            "application/vnd.jupyter.widget-view+json": {
              "version_major": 2,
              "version_minor": 0,
              "model_id": "51daa10b42a545e7a5c2ea82341f81ee"
            }
          },
          "metadata": {}
        },
        {
          "name": "stdout",
          "text": "Max length: 168\n",
          "output_type": "stream"
        },
        {
          "name": "stderr",
          "text": "/opt/conda/lib/python3.10/site-packages/transformers/training_args.py:1474: FutureWarning: `evaluation_strategy` is deprecated and will be removed in version 4.46 of 🤗 Transformers. Use `eval_strategy` instead\n  warnings.warn(\n",
          "output_type": "stream"
        },
        {
          "output_type": "display_data",
          "data": {
            "text/plain": "<IPython.core.display.HTML object>",
            "text/html": "\n    <div>\n      \n      <progress value='1850' max='1850' style='width:300px; height:20px; vertical-align: middle;'></progress>\n      [1850/1850 12:41, Epoch 10/10]\n    </div>\n    <table border=\"1\" class=\"dataframe\">\n  <thead>\n <tr style=\"text-align: left;\">\n      <th>Epoch</th>\n      <th>Training Loss</th>\n      <th>Validation Loss</th>\n    </tr>\n  </thead>\n  <tbody>\n    <tr>\n      <td>1</td>\n      <td>No log</td>\n      <td>0.974708</td>\n    </tr>\n    <tr>\n      <td>2</td>\n      <td>No log</td>\n      <td>0.913560</td>\n    </tr>\n    <tr>\n      <td>3</td>\n      <td>0.959700</td>\n      <td>0.874582</td>\n    </tr>\n    <tr>\n      <td>4</td>\n      <td>0.959700</td>\n      <td>0.839392</td>\n    </tr>\n    <tr>\n      <td>5</td>\n      <td>0.959700</td>\n      <td>0.809894</td>\n    </tr>\n    <tr>\n      <td>6</td>\n      <td>0.692000</td>\n      <td>0.793854</td>\n    </tr>\n    <tr>\n      <td>7</td>\n      <td>0.692000</td>\n      <td>0.785285</td>\n    </tr>\n    <tr>\n      <td>8</td>\n      <td>0.692000</td>\n      <td>0.777782</td>\n    </tr>\n    <tr>\n      <td>9</td>\n      <td>0.551300</td>\n      <td>0.774415</td>\n    </tr>\n    <tr>\n      <td>10</td>\n      <td>0.551300</td>\n      <td>0.774401</td>\n    </tr>\n  </tbody>\n</table><p>"
          },
          "metadata": {}
        }
      ]
    },
    {
      "cell_type": "code",
      "source": [],
      "metadata": {
        "id": "oStMm962jHMi"
      },
      "execution_count": null,
      "outputs": []
    },
    {
      "cell_type": "code",
      "source": [],
      "metadata": {
        "id": "FW1zUMfOjHMi"
      },
      "execution_count": null,
      "outputs": []
    },
    {
      "cell_type": "code",
      "source": [
        "\n",
        "from transformers import GPT2LMHeadModel\n",
        "\n",
        "# Load the model\n",
        "model = GPT2LMHeadModel.from_pretrained(\"pModel\")\n",
        "\n",
        "# Next word prediction function\n",
        "def predict_next_word(model, tokenizer, text, max_length):\n",
        "    model.eval()\n",
        "    device = next(model.parameters()).device  # Get the device of the model\n",
        "    tokens = tokenizer.encode(text)\n",
        "    input_ids = torch.tensor(tokens).unsqueeze(0).to(device)  # Add batch dimension and move to the same device as the model\n",
        "    with torch.no_grad():\n",
        "        outputs = model(input_ids)\n",
        "        predictions = outputs.logits\n",
        "    predicted_index = torch.argmax(predictions[0, -1, :]).item()\n",
        "    predicted_token = tokenizer.decode([predicted_index])\n",
        "    return predicted_token\n",
        "\n",
        "# Sentence prediction function\n",
        "def predict_sentence(model, tokenizer, text, max_length, num_words=10):\n",
        "    model.eval()\n",
        "    device = next(model.parameters()).device  # Get the device of the model\n",
        "    tokens = tokenizer.encode(text)\n",
        "    input_ids = torch.tensor(tokens).unsqueeze(0).to(device)  # Add batch dimension and move to the same device as the model\n",
        "    generated = tokens\n",
        "    for _ in range(num_words):\n",
        "        with torch.no_grad():\n",
        "            outputs = model(input_ids)\n",
        "            predictions = outputs.logits\n",
        "        predicted_index = torch.argmax(predictions[0, -1, :]).item()\n",
        "        generated.append(predicted_index)\n",
        "        input_ids = torch.tensor(generated).unsqueeze(0).to(device)  # Add batch dimension and move to the same device as the model\n",
        "    predicted_sentence = tokenizer.decode(generated)\n",
        "    return predicted_sentence\n",
        "\n",
        "# Example usage\n",
        "text = \"हाफकिन संस्थेम\"\n",
        "text = \"Nara Lokesh said\"\n",
        "text = \"बता दें कि कांग्रेस के दिग्गज नेता जवाह\"\n",
        "print(\"Next word prediction:\", predict_next_word(model, tokenizer, text, max_length))\n",
        "print(\"Sentence prediction:\", predict_sentence(model, tokenizer, text, max_length, num_words=10))"
      ],
      "metadata": {
        "execution": {
          "iopub.status.busy": "2024-07-30T10:26:04.86826Z",
          "iopub.execute_input": "2024-07-30T10:26:04.868926Z",
          "iopub.status.idle": "2024-07-30T10:26:07.090745Z",
          "shell.execute_reply.started": "2024-07-30T10:26:04.868893Z",
          "shell.execute_reply": "2024-07-30T10:26:07.089967Z"
        },
        "trusted": true,
        "id": "td4CAgP2jHMi",
        "outputId": "3b24dad2-ff4e-418f-acfb-eca47f68c32f"
      },
      "execution_count": null,
      "outputs": [
        {
          "name": "stdout",
          "text": "Next word prediction: ल\nSentence prediction: बता दें कि कांग्रेस के दिग्गज नेता जवाहलाल नेहरू के बाद पीएम मोदी दूसरे ऐसे\n",
          "output_type": "stream"
        }
      ]
    },
    {
      "cell_type": "code",
      "source": [
        "# import shutil\n",
        "\n",
        "\n",
        "# # Compress the entire working directory\n",
        "# shutil.make_archive('working_directory', 'zip', '/kaggle/working/pModel')\n",
        "\n",
        "\n",
        "# from IPython.display import FileLink\n",
        "\n",
        "\n",
        "# # Create a link to download the file\n",
        "# FileLink('working_directory.zip')\n"
      ],
      "metadata": {
        "execution": {
          "iopub.status.busy": "2024-07-30T09:30:42.435784Z",
          "iopub.execute_input": "2024-07-30T09:30:42.43609Z",
          "iopub.status.idle": "2024-07-30T09:30:42.441301Z",
          "shell.execute_reply.started": "2024-07-30T09:30:42.436065Z",
          "shell.execute_reply": "2024-07-30T09:30:42.440352Z"
        },
        "trusted": true,
        "id": "wPrhazRhjHMj"
      },
      "execution_count": null,
      "outputs": []
    },
    {
      "cell_type": "code",
      "source": [],
      "metadata": {
        "id": "j52hipyNjHMj"
      },
      "execution_count": null,
      "outputs": []
    },
    {
      "cell_type": "code",
      "source": [],
      "metadata": {
        "id": "c_IRSF1KjHMj"
      },
      "execution_count": null,
      "outputs": []
    },
    {
      "cell_type": "code",
      "source": [],
      "metadata": {
        "id": "gFYteOBfjHMj"
      },
      "execution_count": null,
      "outputs": []
    },
    {
      "cell_type": "code",
      "source": [],
      "metadata": {
        "id": "jT1-y4HwjHMj"
      },
      "execution_count": null,
      "outputs": []
    },
    {
      "cell_type": "code",
      "source": [],
      "metadata": {
        "id": "yyBvNbXSjHMj"
      },
      "execution_count": null,
      "outputs": []
    }
  ]
}